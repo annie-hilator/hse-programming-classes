{
 "cells": [
  {
   "cell_type": "markdown",
   "id": "8c300997-6101-44a1-875c-707462b1616c",
   "metadata": {},
   "source": [
    "В списке `date_formats` содержатся используемые форматы дат. Далее производится вход в вечный цикл, который прерывается при выборе команды \"выход\". Далее принимается на вход дата в виде строки, и с помощью конструкции `try-except` предпринимается попытка преобразовать строку в один из указанных форматов дат. Если дата соответствует одному из форматов, то она выводится в этом формате. Если же ни один формат не подошёл и в объект `date_object` ничего не записано, выводится соответствующее сообщение. Используется обработка исключения `ValueError`, так как оно подходит для случаев, когда выполняется преобразование переменной правильного типа, но с некорректным значением."
   ]
  },
  {
   "cell_type": "code",
   "execution_count": 3,
   "id": "a08b83d6-a94c-4895-864f-9e4ad6dfcce6",
   "metadata": {},
   "outputs": [
    {
     "name": "stdout",
     "output_type": "stream",
     "text": [
      "1 - ввод даты, 2 - выход\n"
     ]
    },
    {
     "name": "stdin",
     "output_type": "stream",
     "text": [
      " 1\n",
      "Введите дату:  Wednesday, October 2, 2002\n"
     ]
    },
    {
     "name": "stdout",
     "output_type": "stream",
     "text": [
      "Объект datetime:  2002-10-02 00:00:00\n",
      "1 - ввод даты, 2 - выход\n"
     ]
    },
    {
     "name": "stdin",
     "output_type": "stream",
     "text": [
      " 1\n",
      "Введите дату:  Friday 11.10.13\n"
     ]
    },
    {
     "name": "stdout",
     "output_type": "stream",
     "text": [
      "Неверный формат даты\n",
      "1 - ввод даты, 2 - выход\n"
     ]
    },
    {
     "name": "stdin",
     "output_type": "stream",
     "text": [
      " 1\n",
      "Введите дату:  Friday, 11.10.13\n"
     ]
    },
    {
     "name": "stdout",
     "output_type": "stream",
     "text": [
      "Объект datetime:  2013-10-11 00:00:00\n",
      "1 - ввод даты, 2 - выход\n"
     ]
    },
    {
     "name": "stdin",
     "output_type": "stream",
     "text": [
      " 1\n",
      "Введите дату:  Thursday, 18 August 1977\n"
     ]
    },
    {
     "name": "stdout",
     "output_type": "stream",
     "text": [
      "Объект datetime:  1977-08-18 00:00:00\n",
      "1 - ввод даты, 2 - выход\n"
     ]
    },
    {
     "name": "stdin",
     "output_type": "stream",
     "text": [
      " 2\n"
     ]
    }
   ],
   "source": [
    "from datetime import datetime\n",
    "\n",
    "date_formats = [\n",
    "    \"%A, %B %d, %Y\",  # The Moscow Times\n",
    "    \"%A, %d.%m.%y\",  # The Guardian\n",
    "    \"%A, %d %B %Y\"  # Daily News\n",
    "]\n",
    "\n",
    "while True:\n",
    "    print(\"1 - ввод даты, 2 - выход\")\n",
    "    user_input = int(input())\n",
    "    if user_input == 2:\n",
    "        break\n",
    "\n",
    "    date_input = input(\"Введите дату: \")\n",
    "    date_object = None\n",
    "\n",
    "    for date_format in date_formats:\n",
    "        try:\n",
    "            date_object = datetime.strptime(date_input, date_format)\n",
    "            print(\"Объект datetime: \", date_object)\n",
    "            break\n",
    "        except ValueError:\n",
    "            pass\n",
    "\n",
    "    if date_object is None:\n",
    "        print(\"Неверный формат даты\")\n"
   ]
  },
  {
   "cell_type": "code",
   "execution_count": null,
   "id": "b6facd3a-ebba-4e5f-80eb-8e4ebbfeebc5",
   "metadata": {},
   "outputs": [],
   "source": []
  }
 ],
 "metadata": {
  "kernelspec": {
   "display_name": "Python 3 (ipykernel)",
   "language": "python",
   "name": "python3"
  },
  "language_info": {
   "codemirror_mode": {
    "name": "ipython",
    "version": 3
   },
   "file_extension": ".py",
   "mimetype": "text/x-python",
   "name": "python",
   "nbconvert_exporter": "python",
   "pygments_lexer": "ipython3",
   "version": "3.12.0"
  }
 },
 "nbformat": 4,
 "nbformat_minor": 5
}
