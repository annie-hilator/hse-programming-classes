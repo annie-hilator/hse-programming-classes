{
 "cells": [
  {
   "cell_type": "markdown",
   "id": "8920c24a-683c-4ef3-a589-e3494f0b15f7",
   "metadata": {},
   "source": [
    "Выбранная пользователем команда находится в переменной `command`. Если пользователь ошибся или такой команды в списке нет --- выводится соответствующее сообщение.\n",
    "\n",
    "Для поиска владельца документа создадим функцию `find_owner()`, которая в качестве аргумента принимает номер документа. Элементами списка documents являются словари, которые перебираются в цикле, а затем в каждом словаре сравнивается значение поля `'number'` с искомым. Функция возвращает строку, которая во внешней программе выводится на экран.\n",
    "\n",
    "Функция `find_shelf()` предназначена для поиска полки, на которой хранится документ с заданным номером. Так как `directories` --- это словарь, а поиск необходимо проводить среди значений, чтобы вывести соответствующий ключ, в цикле перебираем оба поля одновременно. Аналогичным образом результатом выполнения функции является строка.\n",
    "\n",
    "Основной код программы находится в функции `main()`, которая вызывается явно."
   ]
  },
  {
   "cell_type": "code",
   "execution_count": 7,
   "id": "c27b6534-bf21-41f9-8e9f-5e6f94a25f7f",
   "metadata": {},
   "outputs": [
    {
     "name": "stdin",
     "output_type": "stream",
     "text": [
      "Введите команду:  p\n",
      "Введите номер документа:  11-2\n"
     ]
    },
    {
     "name": "stdout",
     "output_type": "stream",
     "text": [
      "Владелец документа: Геннадий Покемонов\n"
     ]
    },
    {
     "name": "stdin",
     "output_type": "stream",
     "text": [
      "Введите команду:  s\n",
      "Введите номер документа:  10006\n"
     ]
    },
    {
     "name": "stdout",
     "output_type": "stream",
     "text": [
      "Документ хранится на полке: 2\n"
     ]
    },
    {
     "name": "stdin",
     "output_type": "stream",
     "text": [
      "Введите команду:  p\n",
      "Введите номер документа:  1\n"
     ]
    },
    {
     "name": "stdout",
     "output_type": "stream",
     "text": [
      "Документ не найден\n"
     ]
    },
    {
     "name": "stdin",
     "output_type": "stream",
     "text": [
      "Введите команду:  m\n"
     ]
    },
    {
     "name": "stdout",
     "output_type": "stream",
     "text": [
      "Неверная команда\n"
     ]
    },
    {
     "name": "stdin",
     "output_type": "stream",
     "text": [
      "Введите команду:  q\n"
     ]
    },
    {
     "name": "stdout",
     "output_type": "stream",
     "text": [
      "Завершение программы\n"
     ]
    }
   ],
   "source": [
    "documents = [\n",
    "    {'type': 'passport', 'number': '2207 876234', 'name': 'Василий Гупкин'},\n",
    "    {'type': 'invoice', 'number': '11-2', 'name': 'Геннадий Покемонов'},\n",
    "    {'type': 'insurance', 'number': '10006', 'name': 'Аристарх Павлов'}\n",
    "]\n",
    "\n",
    "directories = {\n",
    "    '1': ['2207 876234', '11-2'],\n",
    "    '2': ['10006'],\n",
    "    '3': []\n",
    "}\n",
    "\n",
    "def find_owner(doc_number):\n",
    "    for doc in documents:\n",
    "        if doc['number'] == doc_number:\n",
    "            return f\"Владелец документа: {doc['name']}\"\n",
    "    return \"Документ не найден\"\n",
    "\n",
    "def find_shelf(doc_number):\n",
    "    for shelf, docs in directories.items():\n",
    "        if doc_number in docs:\n",
    "            return f\"Документ хранится на полке: {shelf}\"\n",
    "    return \"Документ не найден на полках\"\n",
    "\n",
    "def main():\n",
    "    while True:\n",
    "        command = input(\"Введите команду: \")\n",
    "\n",
    "        if command == 'p':\n",
    "            doc_number = input(\"Введите номер документа: \")\n",
    "            print(find_owner(doc_number))\n",
    "\n",
    "        elif command == 's':\n",
    "            doc_number = input(\"Введите номер документа: \")\n",
    "            print(find_shelf(doc_number))\n",
    "\n",
    "        elif command == 'q':\n",
    "            print(\"Завершение программы\")\n",
    "            break\n",
    "\n",
    "        else:\n",
    "            print(\"Неверная команда\")\n",
    "\n",
    "main()"
   ]
  }
 ],
 "metadata": {
  "kernelspec": {
   "display_name": "Python 3 (ipykernel)",
   "language": "python",
   "name": "python3"
  },
  "language_info": {
   "codemirror_mode": {
    "name": "ipython",
    "version": 3
   },
   "file_extension": ".py",
   "mimetype": "text/x-python",
   "name": "python",
   "nbconvert_exporter": "python",
   "pygments_lexer": "ipython3",
   "version": "3.12.0"
  }
 },
 "nbformat": 4,
 "nbformat_minor": 5
}
