{
 "cells": [
  {
   "cell_type": "markdown",
   "id": "e4601d87-716d-466d-9ee7-fa3686604d87",
   "metadata": {},
   "source": [
    "# Задание 1"
   ]
  },
  {
   "cell_type": "markdown",
   "id": "bfe4dc54-d8df-4163-a280-f0ee2281d88e",
   "metadata": {},
   "source": [
    "Для начала рассмотрим решение \"в лоб\": с помощью конструкции if-else в зависимости от длины слова выводим необходимые символы:"
   ]
  },
  {
   "cell_type": "code",
   "execution_count": 9,
   "id": "b6374d0f-87c7-479a-b653-4af2ae82f93c",
   "metadata": {},
   "outputs": [
    {
     "name": "stdout",
     "output_type": "stream",
     "text": [
      "t\n"
     ]
    }
   ],
   "source": [
    "word = \"testing\"\n",
    "\n",
    "if len(word) % 2 == 0:\n",
    "    print(word[len(word)//2 - 1: len(word)//2 + 1])\n",
    "else:\n",
    "    print(word[len(word)//2])"
   ]
  },
  {
   "cell_type": "markdown",
   "id": "88e82dad-2d58-4ae0-8479-e9538433cdc4",
   "metadata": {},
   "source": [
    "Эта же логика сохраняется и при использовании тернарного оператора:"
   ]
  },
  {
   "cell_type": "code",
   "execution_count": 13,
   "id": "18f541ed-cc32-46a7-8b99-4d5905d9155b",
   "metadata": {},
   "outputs": [
    {
     "name": "stdout",
     "output_type": "stream",
     "text": [
      "t\n"
     ]
    }
   ],
   "source": [
    "word = \"testing\"\n",
    "\n",
    "l = len(word)\n",
    "print(word[l//2 - 1: l//2 + 1] if l % 2 == 0 else word[l//2])"
   ]
  },
  {
   "cell_type": "markdown",
   "id": "542c2106-46e9-47d7-ba0f-966bbbeb2252",
   "metadata": {},
   "source": [
    "Также можно преобразовать формулу для среза (а ещё добавить ввод слова с клавиатуры) и сделать код ещё компактнее:"
   ]
  },
  {
   "cell_type": "code",
   "execution_count": 1,
   "id": "3485c88d-3ec3-4dc0-a43d-4a03f352e29d",
   "metadata": {},
   "outputs": [
    {
     "name": "stdin",
     "output_type": "stream",
     "text": [
      " testing\n"
     ]
    },
    {
     "name": "stdout",
     "output_type": "stream",
     "text": [
      "t\n"
     ]
    }
   ],
   "source": [
    "word = input()\n",
    "\n",
    "print(word[(len(word) - 1) // 2: len(word) // 2 + 1])"
   ]
  },
  {
   "cell_type": "markdown",
   "id": "5d790d9d-8318-4031-9966-6162b8a069bf",
   "metadata": {},
   "source": [
    "# Задание 2"
   ]
  },
  {
   "cell_type": "markdown",
   "id": "3b10d110-16f1-4241-81e4-de43300374ce",
   "metadata": {},
   "source": [
    "Рассмотрим выполнение задачи на предложенном примере. Метод sort() сортирует элементы в исходном списке, и так как элементами списков являются строки, то они сортируются по алфавиту. Если длина двух списков одинаковая, то есть количество девушек и парней совпадает, то при помощи команды zip() \"объединяем\" два списка и выводим рекомендованные пары с использованием f-строки. В обратном случае выводим предупреждение."
   ]
  },
  {
   "cell_type": "code",
   "execution_count": 2,
   "id": "e50756c3-581d-4b25-affd-b2133c272845",
   "metadata": {},
   "outputs": [
    {
     "name": "stdout",
     "output_type": "stream",
     "text": [
      "Идеальные пары: \n",
      "Emma и Alex\n",
      "Kate и Arthur\n",
      "Kira и John\n",
      "Liza и Peter\n",
      "Trisha и Richard\n"
     ]
    }
   ],
   "source": [
    "girls = [\"Kate\", \"Liza\", \"Kira\", \"Emma\", \"Trisha\"]\n",
    "boys = [\"Peter\", \"Alex\", \"John\", \"Arthur\", \"Richard\"]\n",
    "\n",
    "girls.sort()\n",
    "boys.sort()\n",
    "\n",
    "if len(girls) != len(boys):\n",
    "    print(\"Внимание, кто-то может остаться без пары\")\n",
    "else:\n",
    "    print(\"Идеальные пары: \")\n",
    "    for girl, boy in zip(girls, boys):\n",
    "        print(f\"{girl} и {boy}\")"
   ]
  },
  {
   "cell_type": "markdown",
   "id": "10958775-c82a-45b9-a444-f7ed859c2235",
   "metadata": {},
   "source": [
    "Аналогичный вариант решения, но с вводом списков девушек и юношей с клавиатуры:"
   ]
  },
  {
   "cell_type": "code",
   "execution_count": 5,
   "id": "68bdd389-e80f-4d82-8e72-30df4527d682",
   "metadata": {},
   "outputs": [
    {
     "name": "stdin",
     "output_type": "stream",
     "text": [
      "Введите количество девушек:  3\n"
     ]
    },
    {
     "name": "stdout",
     "output_type": "stream",
     "text": [
      "Введите имена девушек по очереди: \n"
     ]
    },
    {
     "name": "stdin",
     "output_type": "stream",
     "text": [
      " Elza\n",
      " Maria\n",
      " Jennifer\n",
      "Введите количество парней:  2\n"
     ]
    },
    {
     "name": "stdout",
     "output_type": "stream",
     "text": [
      "Введите имена парней по очереди: \n"
     ]
    },
    {
     "name": "stdin",
     "output_type": "stream",
     "text": [
      " Mark\n",
      " Chuck\n"
     ]
    },
    {
     "name": "stdout",
     "output_type": "stream",
     "text": [
      "Внимание, кто-то может остаться без пары\n"
     ]
    }
   ],
   "source": [
    "n = int(input(\"Введите количество девушек: \"))\n",
    "girls = []\n",
    "print(\"Введите имена девушек по очереди: \")\n",
    "for _ in range(n):\n",
    "    girls.append(input())\n",
    "\n",
    "m = int(input(\"Введите количество парней: \"))\n",
    "boys = []\n",
    "print(\"Введите имена парней по очереди: \")\n",
    "for _ in range(m):\n",
    "    boys.append(input())\n",
    "\n",
    "girls.sort()\n",
    "boys.sort()\n",
    "\n",
    "if len(girls) != len(boys):\n",
    "    print(\"Внимание, кто-то может остаться без пары\")\n",
    "else:\n",
    "    print(\"Идеальные пары: \")\n",
    "    for girl, boy in zip(girls, boys):\n",
    "        print(f\"{girl} и {boy}\")"
   ]
  },
  {
   "cell_type": "code",
   "execution_count": null,
   "id": "c5ab52c5-4d0b-4783-a6fd-6a1721ba191e",
   "metadata": {},
   "outputs": [],
   "source": []
  }
 ],
 "metadata": {
  "kernelspec": {
   "display_name": "Python 3 (ipykernel)",
   "language": "python",
   "name": "python3"
  },
  "language_info": {
   "codemirror_mode": {
    "name": "ipython",
    "version": 3
   },
   "file_extension": ".py",
   "mimetype": "text/x-python",
   "name": "python",
   "nbconvert_exporter": "python",
   "pygments_lexer": "ipython3",
   "version": "3.12.0"
  }
 },
 "nbformat": 4,
 "nbformat_minor": 5
}
