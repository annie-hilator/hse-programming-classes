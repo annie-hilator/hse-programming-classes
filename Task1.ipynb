{
 "cells": [
  {
   "cell_type": "markdown",
   "id": "da4ca855-e94b-4c85-8efc-57f836709ea6",
   "metadata": {},
   "source": [
    "Год является високосным, если его номер делится на 4 и при этом не делится на 100 либо если он делится на 400 без остатка. Функция is_leap_year() принимает в качестве аргумента номер года и возвращает значение True, если это условие выполнено, и значение False в обратном случае."
   ]
  },
  {
   "cell_type": "code",
   "execution_count": 1,
   "id": "e13383eb-b57a-412e-a375-94368f9c6972",
   "metadata": {},
   "outputs": [
    {
     "name": "stdin",
     "output_type": "stream",
     "text": [
      " 2024\n"
     ]
    },
    {
     "name": "stdout",
     "output_type": "stream",
     "text": [
      "Високосный год\n"
     ]
    }
   ],
   "source": [
    "def is_leap_year(y):\n",
    "    return ((y % 4 == 0 and y % 100 != 0) or (y % 400 == 0))\n",
    "\n",
    "year = int(input())\n",
    "\n",
    "if is_leap_year(year):\n",
    "    print(\"Високосный год\")\n",
    "else:\n",
    "    print(\"Обычный год\")"
   ]
  },
  {
   "cell_type": "markdown",
   "id": "e92baf91-85f5-4dc4-95cf-d279c14a851c",
   "metadata": {},
   "source": [
    "Функция is_lucky() принимает на вход строку, состоящую из чисел. В ней используются генераторные выражения, чтобы составить последовательности из первых трёх и последних трёх цифр номера билета, которые выделяются в строке с помощью среза. Затем вычисляются суммы этих последовательностей, и если они равны, функция возвращает значение True, иначе она возвращает значение False."
   ]
  },
  {
   "cell_type": "code",
   "execution_count": 2,
   "id": "d6cd59ff-2753-47d1-ab9b-fdd6525da1d2",
   "metadata": {},
   "outputs": [
    {
     "name": "stdin",
     "output_type": "stream",
     "text": [
      " 123321\n"
     ]
    },
    {
     "name": "stdout",
     "output_type": "stream",
     "text": [
      "Счастливый билет\n"
     ]
    }
   ],
   "source": [
    "def is_lucky(ticket):\n",
    "    sum1 = sum(int(x) for x in ticket[:3])\n",
    "    sum2 = sum(int(x) for x in ticket[3:])\n",
    "    return sum1 == sum2\n",
    "\n",
    "number = input()\n",
    "\n",
    "if is_lucky(number):\n",
    "    print(\"Счастливый билет\")\n",
    "else:\n",
    "    print(\"Несчастливый билет\")"
   ]
  }
 ],
 "metadata": {
  "kernelspec": {
   "display_name": "Python 3 (ipykernel)",
   "language": "python",
   "name": "python3"
  },
  "language_info": {
   "codemirror_mode": {
    "name": "ipython",
    "version": 3
   },
   "file_extension": ".py",
   "mimetype": "text/x-python",
   "name": "python",
   "nbconvert_exporter": "python",
   "pygments_lexer": "ipython3",
   "version": "3.12.0"
  }
 },
 "nbformat": 4,
 "nbformat_minor": 5
}
