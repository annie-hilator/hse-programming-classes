{
 "cells": [
  {
   "cell_type": "markdown",
   "id": "530f0669-f496-403e-b9b9-ccb8338d712d",
   "metadata": {},
   "source": [
    "С использованием словарного включения создадим словарь `price_less_20`, ключи в котором будут соответствовать ключам словаря `items`, а значения - результат выражения `(value['count'] < 20)` для каждого значения словаря исходных данных. Метод `items()` позволяет получить пары ключ-значение для итерирования."
   ]
  },
  {
   "cell_type": "code",
   "execution_count": 3,
   "id": "3e2edfcf-4648-4faf-b453-13cbac1e1761",
   "metadata": {},
   "outputs": [
    {
     "name": "stdout",
     "output_type": "stream",
     "text": [
      "{'milk15': False, 'cheese': True, 'sausage': False}\n"
     ]
    }
   ],
   "source": [
    "items = {\n",
    "    'milk15': {'name': 'молоко 1.5%', 'count': 34, 'price': 89.9},\n",
    "    'cheese': {'name': 'сыр молочный 1 кг.', 'count': 12, 'price': 990.9},\n",
    "    'sausage': {'name': 'колбаса 1 кг.', 'count': 122, 'price': 1990.9}\n",
    "}\n",
    "\n",
    "price_less_20 = {key: (value['count'] < 20) for key, value in items.items()}\n",
    "\n",
    "print(price_less_20)"
   ]
  }
 ],
 "metadata": {
  "kernelspec": {
   "display_name": "Python 3 (ipykernel)",
   "language": "python",
   "name": "python3"
  },
  "language_info": {
   "codemirror_mode": {
    "name": "ipython",
    "version": 3
   },
   "file_extension": ".py",
   "mimetype": "text/x-python",
   "name": "python",
   "nbconvert_exporter": "python",
   "pygments_lexer": "ipython3",
   "version": "3.12.0"
  }
 },
 "nbformat": 4,
 "nbformat_minor": 5
}
